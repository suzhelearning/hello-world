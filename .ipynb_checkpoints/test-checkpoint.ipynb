{
 "cells": [
  {
   "cell_type": "markdown",
   "id": "2ffcdc2a-1090-4aa5-8825-090bf2297a1c",
   "metadata": {},
   "source": [
    "# MindSpore"
   ]
  },
  {
   "cell_type": "code",
   "execution_count": 5,
   "id": "d539a222-fd37-4798-b670-ad12c5330d90",
   "metadata": {},
   "outputs": [],
   "source": [
    "import mindspore as ms\n"
   ]
  },
  {
   "cell_type": "code",
   "execution_count": 6,
   "id": "ef8eb55f-2f2c-40f7-a4a4-dffaf8e1bfd5",
   "metadata": {},
   "outputs": [
    {
     "name": "stdout",
     "output_type": "stream",
     "text": [
      "MindSpore version:  2.4.0\n",
      "The result of multiplication calculation is correct, MindSpore has been installed on platform [CPU] successfully!\n"
     ]
    }
   ],
   "source": [
    "ms.run_check()"
   ]
  },
  {
   "cell_type": "markdown",
   "id": "cde40cf1-de88-4f80-99fb-63ad6f121b71",
   "metadata": {},
   "source": [
    "# Pytorch"
   ]
  },
  {
   "cell_type": "code",
   "execution_count": 1,
   "id": "34b577f0-8556-4695-9065-2dc57d399bad",
   "metadata": {},
   "outputs": [],
   "source": [
    "import torch"
   ]
  },
  {
   "cell_type": "code",
   "execution_count": 6,
   "id": "d0c67b85-8b75-4d0a-8e17-513ac103f2b2",
   "metadata": {},
   "outputs": [
    {
     "name": "stdout",
     "output_type": "stream",
     "text": [
      "2.5.1+cu124\n",
      "12.4\n",
      "True\n"
     ]
    }
   ],
   "source": [
    "print(torch.__version__)\n",
    "print(torch.version.cuda)\n",
    "print(torch.cuda.is_available())"
   ]
  }
 ],
 "metadata": {
  "kernelspec": {
   "display_name": "Python 3 (ipykernel)",
   "language": "python",
   "name": "python3"
  },
  "language_info": {
   "codemirror_mode": {
    "name": "ipython",
    "version": 3
   },
   "file_extension": ".py",
   "mimetype": "text/x-python",
   "name": "python",
   "nbconvert_exporter": "python",
   "pygments_lexer": "ipython3",
   "version": "3.10.15"
  }
 },
 "nbformat": 4,
 "nbformat_minor": 5
}
